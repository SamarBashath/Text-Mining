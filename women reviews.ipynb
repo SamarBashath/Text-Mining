{
 "cells": [
  {
   "cell_type": "markdown",
   "metadata": {},
   "source": [
    "In this code we will present methods to convert words into number which is important in text mining"
   ]
  },
  {
   "cell_type": "markdown",
   "metadata": {},
   "source": [
    "Load packages"
   ]
  },
  {
   "cell_type": "code",
   "execution_count": 10,
   "metadata": {},
   "outputs": [],
   "source": [
    "import pandas as pd\n",
    "from nltk import word_tokenize\n",
    "from sklearn.feature_extraction.text import TfidfVectorizer, ENGLISH_STOP_WORDS "
   ]
  },
  {
   "cell_type": "markdown",
   "metadata": {},
   "source": [
    "load the data . You can find it in Kaggel"
   ]
  },
  {
   "cell_type": "code",
   "execution_count": 3,
   "metadata": {},
   "outputs": [
    {
     "name": "stdout",
     "output_type": "stream",
     "text": [
      "<bound method NDFrame.head of       id  Clothing ID  Age                                              Title  \\\n",
      "0      2         1077   60                            Some major design flaws   \n",
      "1      3         1049   50                                   My favorite buy!   \n",
      "2     16         1065   34  You need to be at least average height, or taller   \n",
      "3     17          853   41                       Looks great with white pants   \n",
      "4     18         1120   32                                Super cute and cozy   \n",
      "..   ...          ...  ...                                                ...   \n",
      "322  416          872   35                                  I love this shirt   \n",
      "323  417         1083   35                                             Flimsy   \n",
      "324  418          831   40                                        Super comfy   \n",
      "325  419         1080   32                          Pretty pattern, weird fit   \n",
      "326  420         1077   68                                   Easy and stylish   \n",
      "\n",
      "                                            ReviewText  Rating  Recommended  \\\n",
      "0    I had such high hopes for this dress and reall...       3            0   \n",
      "1    I love, love, love this jumpsuit. it's fun, fl...       5            1   \n",
      "2    Material and color is nice.  the leg opening i...       3            1   \n",
      "3    Took a chance on this blouse and so glad i did...       5            1   \n",
      "4    A flattering, super cozy coat.  will work well...       5            1   \n",
      "..                                                 ...     ...          ...   \n",
      "322  I really love this lace-up shirt, but i only l...       5            1   \n",
      "323  I love byron lars dresses, and this design is ...       2            0   \n",
      "324  Love this blouse, it;s super comfy, looks awes...       5            1   \n",
      "325  I fell in love with this dress when i saw it o...       3            1   \n",
      "326  I was hesitant based on the reviews, but i'm g...       5            1   \n",
      "\n",
      "     Positive Feedback Count   Division Name Department Name Class Name  \n",
      "0                          0         General         Dresses    Dresses  \n",
      "1                          0  General Petite         Bottoms      Pants  \n",
      "2                          2         General         Bottoms      Pants  \n",
      "3                          0         General            Tops    Blouses  \n",
      "4                          0         General         Jackets  Outerwear  \n",
      "..                       ...             ...             ...        ...  \n",
      "322                       14         General            Tops      Knits  \n",
      "323                        2         General         Dresses    Dresses  \n",
      "324                        0         General            Tops    Blouses  \n",
      "325                        1         General         Dresses    Dresses  \n",
      "326                        2         General         Dresses    Dresses  \n",
      "\n",
      "[327 rows x 11 columns]>\n"
     ]
    }
   ],
   "source": [
    "data = pd.read_csv (r'Womens.csv')   \n",
    "print (data.head)"
   ]
  },
  {
   "cell_type": "markdown",
   "metadata": {},
   "source": [
    "let’s explore the data"
   ]
  },
  {
   "cell_type": "code",
   "execution_count": 4,
   "metadata": {},
   "outputs": [
    {
     "name": "stdout",
     "output_type": "stream",
     "text": [
      "3597\n",
      "2\n"
     ]
    }
   ],
   "source": [
    "\n",
    "size = data.size \n",
    "print(size)\n",
    "df_ndim = data.ndim \n",
    "print(df_ndim)"
   ]
  },
  {
   "cell_type": "markdown",
   "metadata": {},
   "source": [
    "We want to see how many women recommended the products we will call it positive and negative reviews."
   ]
  },
  {
   "cell_type": "code",
   "execution_count": 5,
   "metadata": {},
   "outputs": [
    {
     "name": "stdout",
     "output_type": "stream",
     "text": [
      "Number of positive and negative reviews:  1    267\n",
      "0     60\n",
      "Name: Recommended, dtype: int64\n"
     ]
    }
   ],
   "source": [
    "print('Number of positive and negative reviews: ', data.Recommended  .value_counts())"
   ]
  },
  {
   "cell_type": "markdown",
   "metadata": {},
   "source": [
    "So it seems a lot of women satisfy with the products"
   ]
  },
  {
   "cell_type": "markdown",
   "metadata": {},
   "source": [
    "Now we will tokenize the words"
   ]
  },
  {
   "cell_type": "code",
   "execution_count": 7,
   "metadata": {},
   "outputs": [
    {
     "name": "stdout",
     "output_type": "stream",
     "text": [
      "['I', 'had', 'such', 'high', 'hopes', 'for', 'this', 'dress', 'and', 'really', 'wanted', 'it', 'to', 'work', 'for', 'me', '.', 'i', 'initially', 'ordered', 'the', 'petite', 'small', '(', 'my', 'usual', 'size', ')', 'but', 'i', 'found', 'this', 'to', 'be', 'outrageously', 'small', '.', 'so', 'small', 'in', 'fact', 'that', 'i', 'could', 'not', 'zip', 'it', 'up', '!', 'i', 'reordered', 'it', 'in', 'petite', 'medium', ',', 'which', 'was', 'just', 'ok.', 'overall', ',', 'the', 'top', 'half', 'was', 'comfortable', 'and', 'fit', 'nicely', ',', 'but', 'the', 'bottom', 'half', 'had', 'a', 'very', 'tight', 'under', 'layer', 'and', 'several', 'somewhat', 'cheap', '(', 'net', ')', 'over', 'layers', '.', 'imo', ',', 'a', 'major', 'design', 'flaw', 'was', 'the', 'net', 'over', 'layer', 'sewn', 'directly', 'into', 'the', 'zipper', '-', 'it', 'c']\n"
     ]
    }
   ],
   "source": [
    "# Tokenize each item in the review column\n",
    "word_tokens = [word_tokenize(ReviewText) for ReviewText in data.ReviewText]\n",
    "len_tokens = []\n",
    "# let's see the tokens of first rows of reviews\n",
    "print(word_tokens[0]) \n"
   ]
  },
  {
   "cell_type": "markdown",
   "metadata": {},
   "source": [
    "count the tokens in each review text"
   ]
  },
  {
   "cell_type": "code",
   "execution_count": 8,
   "metadata": {},
   "outputs": [
    {
     "name": "stdout",
     "output_type": "stream",
     "text": [
      "0      110\n",
      "1       31\n",
      "2       86\n",
      "3       68\n",
      "4       41\n",
      "      ... \n",
      "322    109\n",
      "323     58\n",
      "324     29\n",
      "325    106\n",
      "326     60\n",
      "Name: n_words, Length: 327, dtype: int64\n"
     ]
    }
   ],
   "source": [
    "# Create an empty list to store the length of the reviews\n",
    "len_tokens = []\n",
    "\n",
    "# Iterate over the word_tokens list and determine the length of each item\n",
    "for i in range(len(word_tokens)):\n",
    "     len_tokens.append(len(word_tokens[i]))\n",
    "\n",
    "# Create a new feature for the lengh of each review\n",
    "data['n_words'] = len_tokens \n",
    "print(data['n_words'])"
   ]
  },
  {
   "cell_type": "markdown",
   "metadata": {},
   "source": [
    "Now we will remove the step words and limit the number of features"
   ]
  },
  {
   "cell_type": "code",
   "execution_count": 17,
   "metadata": {},
   "outputs": [
    {
     "name": "stdout",
     "output_type": "stream",
     "text": [
      "Top 5 rows of the DataFrame: \n",
      "    adorable  arms  beautiful  better  big  bit  black    blouse  blue  body  \\\n",
      "0       0.0   0.0        0.0     0.0  0.0  0.0    0.0  0.000000   0.0   0.0   \n",
      "1       0.0   0.0        0.0     0.0  0.0  0.0    0.0  0.000000   0.0   0.0   \n",
      "2       0.0   0.0        0.0     0.0  0.0  0.0    0.0  0.000000   0.0   0.0   \n",
      "3       0.0   0.0        0.0     0.0  0.0  0.0    0.0  0.552362   0.0   0.0   \n",
      "4       0.0   0.0        0.0     0.0  0.0  0.0    0.0  0.000000   0.0   0.0   \n",
      "\n",
      "   ...     white  wide  winter  wish  wore      work  worn  worth   xs  \\\n",
      "0  ...  0.000000   0.0     0.0   0.0   0.0  0.187826   0.0    0.0  0.0   \n",
      "1  ...  0.000000   0.0     0.0   0.0   0.0  0.000000   0.0    0.0  0.0   \n",
      "2  ...  0.000000   0.0     0.0   0.0   0.0  0.000000   0.0    0.0  0.0   \n",
      "3  ...  0.259951   0.0     0.0   0.0   0.0  0.000000   0.0    0.0  0.0   \n",
      "4  ...  0.000000   0.0     0.0   0.0   0.0  0.329535   0.0    0.0  0.0   \n",
      "\n",
      "     zipper  \n",
      "0  0.254497  \n",
      "1  0.000000  \n",
      "2  0.000000  \n",
      "3  0.000000  \n",
      "4  0.000000  \n",
      "\n",
      "[5 rows x 200 columns]\n"
     ]
    }
   ],
   "source": [
    "\n",
    "# Build the vectorizer\n",
    "vect = TfidfVectorizer(stop_words=ENGLISH_STOP_WORDS, ngram_range=(1, 2), max_features=200, token_pattern=r'\\b[^\\d\\W][^\\d\\W]+\\b').fit(data.ReviewText)\n",
    "#ngram_range is a way of split sentence into words 1, is the minimum and 2 is the maximum\n",
    "#max_features is the maximum number of features that the reviews have\n",
    "\n",
    "# Create sparse matrix from the vectorizer\n",
    "X = vect.transform(data.ReviewText)\n",
    "\n",
    "# Create a DataFrame\n",
    "reviews_transformed = pd.DataFrame(X.toarray(), columns=vect.get_feature_names())\n",
    "print('Top 5 rows of the DataFrame: \\n', reviews_transformed.head())\n"
   ]
  }
 ],
 "metadata": {
  "kernelspec": {
   "display_name": "Python 3",
   "language": "python",
   "name": "python3"
  },
  "language_info": {
   "codemirror_mode": {
    "name": "ipython",
    "version": 3
   },
   "file_extension": ".py",
   "mimetype": "text/x-python",
   "name": "python",
   "nbconvert_exporter": "python",
   "pygments_lexer": "ipython3",
   "version": "3.7.6"
  }
 },
 "nbformat": 4,
 "nbformat_minor": 4
}
