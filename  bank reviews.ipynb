{
 "cells": [
  {
   "cell_type": "code",
   "execution_count": null,
   "metadata": {},
   "outputs": [],
   "source": [
    "In this tutorial we will analyze the reviews about different banks"
   ]
  },
  {
   "cell_type": "markdown",
   "metadata": {},
   "source": [
    "### Load Packages\n"
   ]
  },
  {
   "cell_type": "code",
   "execution_count": null,
   "metadata": {},
   "outputs": [],
   "source": [
    "install.packages(\"tidytext\")\n",
    "install.packages(\"textdata\")\n",
    "library(textdata)\n",
    "library(tidytext)\n",
    "library(tidyverse)\n",
    "library(ggplot2)\n",
    "library(dplyr)\n",
    "\n"
   ]
  },
  {
   "cell_type": "markdown",
   "metadata": {},
   "source": [
    "Load the data set. you can find the data set in Kaggle"
   ]
  },
  {
   "cell_type": "code",
   "execution_count": 2,
   "metadata": {},
   "outputs": [],
   "source": [
    "text<-read.csv(\"BankReviews.csv\",sep=\",\",header=TRUE)"
   ]
  },
  {
   "cell_type": "markdown",
   "metadata": {},
   "source": [
    "let’s examine the data"
   ]
  },
  {
   "cell_type": "code",
   "execution_count": 3,
   "metadata": {},
   "outputs": [
    {
     "data": {
      "text/html": [
       "<ol class=list-inline>\n",
       "\t<li>50</li>\n",
       "\t<li>4</li>\n",
       "</ol>\n"
      ],
      "text/latex": [
       "\\begin{enumerate*}\n",
       "\\item 50\n",
       "\\item 4\n",
       "\\end{enumerate*}\n"
      ],
      "text/markdown": [
       "1. 50\n",
       "2. 4\n",
       "\n",
       "\n"
      ],
      "text/plain": [
       "[1] 50  4"
      ]
     },
     "metadata": {},
     "output_type": "display_data"
    }
   ],
   "source": [
    "dim(text)"
   ]
  },
  {
   "cell_type": "code",
   "execution_count": 4,
   "metadata": {},
   "outputs": [
    {
     "data": {
      "text/html": [
       "<ol class=list-inline>\n",
       "\t<li>'Date'</li>\n",
       "\t<li>'Stars'</li>\n",
       "\t<li>'Reviews'</li>\n",
       "\t<li>'BankName'</li>\n",
       "</ol>\n"
      ],
      "text/latex": [
       "\\begin{enumerate*}\n",
       "\\item 'Date'\n",
       "\\item 'Stars'\n",
       "\\item 'Reviews'\n",
       "\\item 'BankName'\n",
       "\\end{enumerate*}\n"
      ],
      "text/markdown": [
       "1. 'Date'\n",
       "2. 'Stars'\n",
       "3. 'Reviews'\n",
       "4. 'BankName'\n",
       "\n",
       "\n"
      ],
      "text/plain": [
       "[1] \"Date\"     \"Stars\"    \"Reviews\"  \"BankName\""
      ]
     },
     "metadata": {},
     "output_type": "display_data"
    }
   ],
   "source": [
    "names(text)"
   ]
  },
  {
   "cell_type": "code",
   "execution_count": 5,
   "metadata": {},
   "outputs": [
    {
     "name": "stdout",
     "output_type": "stream",
     "text": [
      "'data.frame':\t50 obs. of  4 variables:\n",
      " $ Date    : Factor w/ 39 levels \"10/2/2017\",\"10/4/2017\",..: 2 1 19 12 27 18 12 11 32 20 ...\n",
      " $ Stars   : int  5 5 5 5 5 5 5 5 5 5 ...\n",
      " $ Reviews : Factor w/ 49 levels \"A good rate but a very frustrating process, constant delays, decisions made then changed, overwhelmed underwrit\"| __truncated__,..: 10 26 44 45 13 15 28 31 16 11 ...\n",
      " $ BankName: Factor w/ 2 levels \"North American Savings Bank\",..: 2 2 2 2 2 2 2 2 2 2 ...\n"
     ]
    }
   ],
   "source": [
    "str(text)"
   ]
  },
  {
   "cell_type": "code",
   "execution_count": 6,
   "metadata": {},
   "outputs": [],
   "source": [
    "text$Reviews <- as.character(text$Reviews)\n"
   ]
  },
  {
   "cell_type": "markdown",
   "metadata": {},
   "source": [
    "Tokenizing the reveiws  "
   ]
  },
  {
   "cell_type": "code",
   "execution_count": 46,
   "metadata": {},
   "outputs": [],
   "source": [
    "text_token <- text %>% \n",
    "  unnest_tokens(word, Reviews) ## reviews column\n",
    "text_token <- text_token %>% \n",
    "  group_by(Stars) %>% \n",
    "  mutate(original_word_order = seq_along(word))"
   ]
  },
  {
   "cell_type": "code",
   "execution_count": 8,
   "metadata": {},
   "outputs": [
    {
     "data": {
      "text/html": [
       "<table>\n",
       "<thead><tr><th></th><th scope=col>Date</th><th scope=col>Stars</th><th scope=col>BankName</th><th scope=col>word</th></tr></thead>\n",
       "<tbody>\n",
       "\t<tr><th scope=row>1</th><td>10/4/2017               </td><td>5                       </td><td>Wyndham Capital Mortgage</td><td>great                   </td></tr>\n",
       "\t<tr><th scope=row>1.1</th><td>10/4/2017               </td><td>5                       </td><td>Wyndham Capital Mortgage</td><td>job                     </td></tr>\n",
       "\t<tr><th scope=row>1.2</th><td>10/4/2017               </td><td>5                       </td><td>Wyndham Capital Mortgage</td><td>wyndham                 </td></tr>\n",
       "\t<tr><th scope=row>1.3</th><td>10/4/2017               </td><td>5                       </td><td>Wyndham Capital Mortgage</td><td>capital                 </td></tr>\n",
       "\t<tr><th scope=row>1.4</th><td>10/4/2017               </td><td>5                       </td><td>Wyndham Capital Mortgage</td><td>each                    </td></tr>\n",
       "\t<tr><th scope=row>1.5</th><td>10/4/2017               </td><td>5                       </td><td>Wyndham Capital Mortgage</td><td>person                  </td></tr>\n",
       "</tbody>\n",
       "</table>\n"
      ],
      "text/latex": [
       "\\begin{tabular}{r|llll}\n",
       "  & Date & Stars & BankName & word\\\\\n",
       "\\hline\n",
       "\t1 & 10/4/2017                & 5                        & Wyndham Capital Mortgage & great                   \\\\\n",
       "\t1.1 & 10/4/2017                & 5                        & Wyndham Capital Mortgage & job                     \\\\\n",
       "\t1.2 & 10/4/2017                & 5                        & Wyndham Capital Mortgage & wyndham                 \\\\\n",
       "\t1.3 & 10/4/2017                & 5                        & Wyndham Capital Mortgage & capital                 \\\\\n",
       "\t1.4 & 10/4/2017                & 5                        & Wyndham Capital Mortgage & each                    \\\\\n",
       "\t1.5 & 10/4/2017                & 5                        & Wyndham Capital Mortgage & person                  \\\\\n",
       "\\end{tabular}\n"
      ],
      "text/markdown": [
       "\n",
       "| <!--/--> | Date | Stars | BankName | word |\n",
       "|---|---|---|---|---|\n",
       "| 1 | 10/4/2017                | 5                        | Wyndham Capital Mortgage | great                    |\n",
       "| 1.1 | 10/4/2017                | 5                        | Wyndham Capital Mortgage | job                      |\n",
       "| 1.2 | 10/4/2017                | 5                        | Wyndham Capital Mortgage | wyndham                  |\n",
       "| 1.3 | 10/4/2017                | 5                        | Wyndham Capital Mortgage | capital                  |\n",
       "| 1.4 | 10/4/2017                | 5                        | Wyndham Capital Mortgage | each                     |\n",
       "| 1.5 | 10/4/2017                | 5                        | Wyndham Capital Mortgage | person                   |\n",
       "\n"
      ],
      "text/plain": [
       "    Date      Stars BankName                 word   \n",
       "1   10/4/2017 5     Wyndham Capital Mortgage great  \n",
       "1.1 10/4/2017 5     Wyndham Capital Mortgage job    \n",
       "1.2 10/4/2017 5     Wyndham Capital Mortgage wyndham\n",
       "1.3 10/4/2017 5     Wyndham Capital Mortgage capital\n",
       "1.4 10/4/2017 5     Wyndham Capital Mortgage each   \n",
       "1.5 10/4/2017 5     Wyndham Capital Mortgage person "
      ]
     },
     "metadata": {},
     "output_type": "display_data"
    }
   ],
   "source": [
    "head(text_token)"
   ]
  },
  {
   "cell_type": "code",
   "execution_count": 9,
   "metadata": {},
   "outputs": [
    {
     "data": {
      "text/html": [
       "<ol class=list-inline>\n",
       "\t<li>4207</li>\n",
       "\t<li>4</li>\n",
       "</ol>\n"
      ],
      "text/latex": [
       "\\begin{enumerate*}\n",
       "\\item 4207\n",
       "\\item 4\n",
       "\\end{enumerate*}\n"
      ],
      "text/markdown": [
       "1. 4207\n",
       "2. 4\n",
       "\n",
       "\n"
      ],
      "text/plain": [
       "[1] 4207    4"
      ]
     },
     "metadata": {},
     "output_type": "display_data"
    }
   ],
   "source": [
    "dim(text_token)"
   ]
  },
  {
   "cell_type": "code",
   "execution_count": null,
   "metadata": {},
   "outputs": [],
   "source": [
    "We can see how the number of rows increas because of we tokenize the Reviews"
   ]
  },
  {
   "cell_type": "markdown",
   "metadata": {},
   "source": [
    "count the words"
   ]
  },
  {
   "cell_type": "code",
   "execution_count": 10,
   "metadata": {},
   "outputs": [
    {
     "data": {
      "text/html": [
       "<table>\n",
       "<thead><tr><th scope=col>word</th><th scope=col>n</th></tr></thead>\n",
       "<tbody>\n",
       "\t<tr><td>the    </td><td>183    </td></tr>\n",
       "\t<tr><td>and    </td><td>154    </td></tr>\n",
       "\t<tr><td>to     </td><td>123    </td></tr>\n",
       "\t<tr><td>i      </td><td>106    </td></tr>\n",
       "\t<tr><td>a      </td><td> 92    </td></tr>\n",
       "\t<tr><td>was    </td><td> 80    </td></tr>\n",
       "\t<tr><td>with   </td><td> 73    </td></tr>\n",
       "\t<tr><td>of     </td><td> 68    </td></tr>\n",
       "\t<tr><td>we     </td><td> 59    </td></tr>\n",
       "\t<tr><td>for    </td><td> 56    </td></tr>\n",
       "\t<tr><td>my     </td><td> 47    </td></tr>\n",
       "\t<tr><td>that   </td><td> 44    </td></tr>\n",
       "\t<tr><td>loan   </td><td> 41    </td></tr>\n",
       "\t<tr><td>it     </td><td> 37    </td></tr>\n",
       "\t<tr><td>on     </td><td> 34    </td></tr>\n",
       "\t<tr><td>our    </td><td> 34    </td></tr>\n",
       "\t<tr><td>would  </td><td> 32    </td></tr>\n",
       "\t<tr><td>he     </td><td> 31    </td></tr>\n",
       "\t<tr><td>had    </td><td> 30    </td></tr>\n",
       "\t<tr><td>in     </td><td> 30    </td></tr>\n",
       "\t<tr><td>process</td><td> 30    </td></tr>\n",
       "\t<tr><td>this   </td><td> 30    </td></tr>\n",
       "\t<tr><td>were   </td><td> 29    </td></tr>\n",
       "\t<tr><td>us     </td><td> 28    </td></tr>\n",
       "\t<tr><td>from   </td><td> 27    </td></tr>\n",
       "\t<tr><td>they   </td><td> 27    </td></tr>\n",
       "\t<tr><td>me     </td><td> 24    </td></tr>\n",
       "\t<tr><td>not    </td><td> 24    </td></tr>\n",
       "\t<tr><td>nasb   </td><td> 23    </td></tr>\n",
       "\t<tr><td>very   </td><td> 22    </td></tr>\n",
       "\t<tr><td>...</td><td>...</td></tr>\n",
       "\t<tr><td>usten       </td><td>1           </td></tr>\n",
       "\t<tr><td>verification</td><td>1           </td></tr>\n",
       "\t<tr><td>versed      </td><td>1           </td></tr>\n",
       "\t<tr><td>veteran     </td><td>1           </td></tr>\n",
       "\t<tr><td>via         </td><td>1           </td></tr>\n",
       "\t<tr><td>violated    </td><td>1           </td></tr>\n",
       "\t<tr><td>voice       </td><td>1           </td></tr>\n",
       "\t<tr><td>w           </td><td>1           </td></tr>\n",
       "\t<tr><td>wait        </td><td>1           </td></tr>\n",
       "\t<tr><td>wasn't      </td><td>1           </td></tr>\n",
       "\t<tr><td>we're       </td><td>1           </td></tr>\n",
       "\t<tr><td>we've       </td><td>1           </td></tr>\n",
       "\t<tr><td>web         </td><td>1           </td></tr>\n",
       "\t<tr><td>weekends    </td><td>1           </td></tr>\n",
       "\t<tr><td>whom        </td><td>1           </td></tr>\n",
       "\t<tr><td>wife's      </td><td>1           </td></tr>\n",
       "\t<tr><td>willingness </td><td>1           </td></tr>\n",
       "\t<tr><td>wished      </td><td>1           </td></tr>\n",
       "\t<tr><td>woman       </td><td>1           </td></tr>\n",
       "\t<tr><td>wonderful   </td><td>1           </td></tr>\n",
       "\t<tr><td>words       </td><td>1           </td></tr>\n",
       "\t<tr><td>wouldn't    </td><td>1           </td></tr>\n",
       "\t<tr><td>wouldn’t    </td><td>1           </td></tr>\n",
       "\t<tr><td>wouldnt     </td><td>1           </td></tr>\n",
       "\t<tr><td>write       </td><td>1           </td></tr>\n",
       "\t<tr><td>written     </td><td>1           </td></tr>\n",
       "\t<tr><td>wyndum      </td><td>1           </td></tr>\n",
       "\t<tr><td>yes         </td><td>1           </td></tr>\n",
       "\t<tr><td>yourself    </td><td>1           </td></tr>\n",
       "\t<tr><td>zero        </td><td>1           </td></tr>\n",
       "</tbody>\n",
       "</table>\n"
      ],
      "text/latex": [
       "\\begin{tabular}{r|ll}\n",
       " word & n\\\\\n",
       "\\hline\n",
       "\t the     & 183    \\\\\n",
       "\t and     & 154    \\\\\n",
       "\t to      & 123    \\\\\n",
       "\t i       & 106    \\\\\n",
       "\t a       &  92    \\\\\n",
       "\t was     &  80    \\\\\n",
       "\t with    &  73    \\\\\n",
       "\t of      &  68    \\\\\n",
       "\t we      &  59    \\\\\n",
       "\t for     &  56    \\\\\n",
       "\t my      &  47    \\\\\n",
       "\t that    &  44    \\\\\n",
       "\t loan    &  41    \\\\\n",
       "\t it      &  37    \\\\\n",
       "\t on      &  34    \\\\\n",
       "\t our     &  34    \\\\\n",
       "\t would   &  32    \\\\\n",
       "\t he      &  31    \\\\\n",
       "\t had     &  30    \\\\\n",
       "\t in      &  30    \\\\\n",
       "\t process &  30    \\\\\n",
       "\t this    &  30    \\\\\n",
       "\t were    &  29    \\\\\n",
       "\t us      &  28    \\\\\n",
       "\t from    &  27    \\\\\n",
       "\t they    &  27    \\\\\n",
       "\t me      &  24    \\\\\n",
       "\t not     &  24    \\\\\n",
       "\t nasb    &  23    \\\\\n",
       "\t very    &  22    \\\\\n",
       "\t ... & ...\\\\\n",
       "\t usten        & 1           \\\\\n",
       "\t verification & 1           \\\\\n",
       "\t versed       & 1           \\\\\n",
       "\t veteran      & 1           \\\\\n",
       "\t via          & 1           \\\\\n",
       "\t violated     & 1           \\\\\n",
       "\t voice        & 1           \\\\\n",
       "\t w            & 1           \\\\\n",
       "\t wait         & 1           \\\\\n",
       "\t wasn't       & 1           \\\\\n",
       "\t we're        & 1           \\\\\n",
       "\t we've        & 1           \\\\\n",
       "\t web          & 1           \\\\\n",
       "\t weekends     & 1           \\\\\n",
       "\t whom         & 1           \\\\\n",
       "\t wife's       & 1           \\\\\n",
       "\t willingness  & 1           \\\\\n",
       "\t wished       & 1           \\\\\n",
       "\t woman        & 1           \\\\\n",
       "\t wonderful    & 1           \\\\\n",
       "\t words        & 1           \\\\\n",
       "\t wouldn't     & 1           \\\\\n",
       "\t wouldn’t     & 1           \\\\\n",
       "\t wouldnt      & 1           \\\\\n",
       "\t write        & 1           \\\\\n",
       "\t written      & 1           \\\\\n",
       "\t wyndum       & 1           \\\\\n",
       "\t yes          & 1           \\\\\n",
       "\t yourself     & 1           \\\\\n",
       "\t zero         & 1           \\\\\n",
       "\\end{tabular}\n"
      ],
      "text/markdown": [
       "\n",
       "| word | n |\n",
       "|---|---|\n",
       "| the     | 183     |\n",
       "| and     | 154     |\n",
       "| to      | 123     |\n",
       "| i       | 106     |\n",
       "| a       |  92     |\n",
       "| was     |  80     |\n",
       "| with    |  73     |\n",
       "| of      |  68     |\n",
       "| we      |  59     |\n",
       "| for     |  56     |\n",
       "| my      |  47     |\n",
       "| that    |  44     |\n",
       "| loan    |  41     |\n",
       "| it      |  37     |\n",
       "| on      |  34     |\n",
       "| our     |  34     |\n",
       "| would   |  32     |\n",
       "| he      |  31     |\n",
       "| had     |  30     |\n",
       "| in      |  30     |\n",
       "| process |  30     |\n",
       "| this    |  30     |\n",
       "| were    |  29     |\n",
       "| us      |  28     |\n",
       "| from    |  27     |\n",
       "| they    |  27     |\n",
       "| me      |  24     |\n",
       "| not     |  24     |\n",
       "| nasb    |  23     |\n",
       "| very    |  22     |\n",
       "| ... | ... |\n",
       "| usten        | 1            |\n",
       "| verification | 1            |\n",
       "| versed       | 1            |\n",
       "| veteran      | 1            |\n",
       "| via          | 1            |\n",
       "| violated     | 1            |\n",
       "| voice        | 1            |\n",
       "| w            | 1            |\n",
       "| wait         | 1            |\n",
       "| wasn't       | 1            |\n",
       "| we're        | 1            |\n",
       "| we've        | 1            |\n",
       "| web          | 1            |\n",
       "| weekends     | 1            |\n",
       "| whom         | 1            |\n",
       "| wife's       | 1            |\n",
       "| willingness  | 1            |\n",
       "| wished       | 1            |\n",
       "| woman        | 1            |\n",
       "| wonderful    | 1            |\n",
       "| words        | 1            |\n",
       "| wouldn't     | 1            |\n",
       "| wouldn’t     | 1            |\n",
       "| wouldnt      | 1            |\n",
       "| write        | 1            |\n",
       "| written      | 1            |\n",
       "| wyndum       | 1            |\n",
       "| yes          | 1            |\n",
       "| yourself     | 1            |\n",
       "| zero         | 1            |\n",
       "\n"
      ],
      "text/plain": [
       "     word         n  \n",
       "1    the          183\n",
       "2    and          154\n",
       "3    to           123\n",
       "4    i            106\n",
       "5    a             92\n",
       "6    was           80\n",
       "7    with          73\n",
       "8    of            68\n",
       "9    we            59\n",
       "10   for           56\n",
       "11   my            47\n",
       "12   that          44\n",
       "13   loan          41\n",
       "14   it            37\n",
       "15   on            34\n",
       "16   our           34\n",
       "17   would         32\n",
       "18   he            31\n",
       "19   had           30\n",
       "20   in            30\n",
       "21   process       30\n",
       "22   this          30\n",
       "23   were          29\n",
       "24   us            28\n",
       "25   from          27\n",
       "26   they          27\n",
       "27   me            24\n",
       "28   not           24\n",
       "29   nasb          23\n",
       "30   very          22\n",
       "...  ...          ...\n",
       "1009 usten        1  \n",
       "1010 verification 1  \n",
       "1011 versed       1  \n",
       "1012 veteran      1  \n",
       "1013 via          1  \n",
       "1014 violated     1  \n",
       "1015 voice        1  \n",
       "1016 w            1  \n",
       "1017 wait         1  \n",
       "1018 wasn't       1  \n",
       "1019 we're        1  \n",
       "1020 we've        1  \n",
       "1021 web          1  \n",
       "1022 weekends     1  \n",
       "1023 whom         1  \n",
       "1024 wife's       1  \n",
       "1025 willingness  1  \n",
       "1026 wished       1  \n",
       "1027 woman        1  \n",
       "1028 wonderful    1  \n",
       "1029 words        1  \n",
       "1030 wouldn't     1  \n",
       "1031 wouldn’t     1  \n",
       "1032 wouldnt      1  \n",
       "1033 write        1  \n",
       "1034 written      1  \n",
       "1035 wyndum       1  \n",
       "1036 yes          1  \n",
       "1037 yourself     1  \n",
       "1038 zero         1  "
      ]
     },
     "metadata": {},
     "output_type": "display_data"
    }
   ],
   "source": [
    "text_token %>% \n",
    "  count(word) %>% \n",
    "  arrange(desc(n))"
   ]
  },
  {
   "cell_type": "markdown",
   "metadata": {},
   "source": [
    "Remove the stop words. Stop words are words such as and, or, the, etc."
   ]
  },
  {
   "cell_type": "code",
   "execution_count": 11,
   "metadata": {},
   "outputs": [
    {
     "name": "stderr",
     "output_type": "stream",
     "text": [
      "Joining, by = \"word\"\n"
     ]
    }
   ],
   "source": [
    "text_token_without_Swords<- text_token %>%\n",
    "anti_join(stop_words)"
   ]
  },
  {
   "cell_type": "code",
   "execution_count": 12,
   "metadata": {},
   "outputs": [
    {
     "data": {
      "text/html": [
       "<ol class=list-inline>\n",
       "\t<li>1562</li>\n",
       "\t<li>4</li>\n",
       "</ol>\n"
      ],
      "text/latex": [
       "\\begin{enumerate*}\n",
       "\\item 1562\n",
       "\\item 4\n",
       "\\end{enumerate*}\n"
      ],
      "text/markdown": [
       "1. 1562\n",
       "2. 4\n",
       "\n",
       "\n"
      ],
      "text/plain": [
       "[1] 1562    4"
      ]
     },
     "metadata": {},
     "output_type": "display_data"
    }
   ],
   "source": [
    "dim(text_token_without_Swords)"
   ]
  },
  {
   "cell_type": "markdown",
   "metadata": {},
   "source": [
    "We can see that the words become low by removing the stop words"
   ]
  },
  {
   "cell_type": "code",
   "execution_count": 13,
   "metadata": {},
   "outputs": [
    {
     "data": {
      "text/html": [
       "<table>\n",
       "<thead><tr><th scope=col>word</th><th scope=col>n</th></tr></thead>\n",
       "<tbody>\n",
       "\t<tr><td>loan         </td><td>41           </td></tr>\n",
       "\t<tr><td>process      </td><td>30           </td></tr>\n",
       "\t<tr><td>nasb         </td><td>23           </td></tr>\n",
       "\t<tr><td>home         </td><td>21           </td></tr>\n",
       "\t<tr><td>mortgage     </td><td>20           </td></tr>\n",
       "\t<tr><td>closing      </td><td>19           </td></tr>\n",
       "\t<tr><td>time         </td><td>18           </td></tr>\n",
       "\t<tr><td>bank         </td><td>16           </td></tr>\n",
       "\t<tr><td>wyndham      </td><td>16           </td></tr>\n",
       "\t<tr><td>recommend    </td><td>15           </td></tr>\n",
       "\t<tr><td>professional </td><td>14           </td></tr>\n",
       "\t<tr><td>team         </td><td>14           </td></tr>\n",
       "\t<tr><td>weeks        </td><td>13           </td></tr>\n",
       "\t<tr><td>experience   </td><td>12           </td></tr>\n",
       "\t<tr><td>rate         </td><td>12           </td></tr>\n",
       "\t<tr><td>closed       </td><td>11           </td></tr>\n",
       "\t<tr><td>questions    </td><td>10           </td></tr>\n",
       "\t<tr><td>refinance    </td><td>10           </td></tr>\n",
       "\t<tr><td>service      </td><td>10           </td></tr>\n",
       "\t<tr><td>entire       </td><td> 9           </td></tr>\n",
       "\t<tr><td>knowledgeable</td><td> 9           </td></tr>\n",
       "\t<tr><td>told         </td><td> 9           </td></tr>\n",
       "\t<tr><td>credit       </td><td> 8           </td></tr>\n",
       "\t<tr><td>easy         </td><td> 8           </td></tr>\n",
       "\t<tr><td>highly       </td><td> 8           </td></tr>\n",
       "\t<tr><td>lender       </td><td> 8           </td></tr>\n",
       "\t<tr><td>purchase     </td><td> 8           </td></tr>\n",
       "\t<tr><td>called       </td><td> 7           </td></tr>\n",
       "\t<tr><td>email        </td><td> 7           </td></tr>\n",
       "\t<tr><td>phone        </td><td> 7           </td></tr>\n",
       "\t<tr><td>...</td><td>...</td></tr>\n",
       "\t<tr><td>understood    </td><td>1             </td></tr>\n",
       "\t<tr><td>underwriter   </td><td>1             </td></tr>\n",
       "\t<tr><td>unfold        </td><td>1             </td></tr>\n",
       "\t<tr><td>unpacked      </td><td>1             </td></tr>\n",
       "\t<tr><td>unprofessional</td><td>1             </td></tr>\n",
       "\t<tr><td>unsure        </td><td>1             </td></tr>\n",
       "\t<tr><td>unwilling     </td><td>1             </td></tr>\n",
       "\t<tr><td>upfront       </td><td>1             </td></tr>\n",
       "\t<tr><td>upload        </td><td>1             </td></tr>\n",
       "\t<tr><td>urgency       </td><td>1             </td></tr>\n",
       "\t<tr><td>usten         </td><td>1             </td></tr>\n",
       "\t<tr><td>verification  </td><td>1             </td></tr>\n",
       "\t<tr><td>versed        </td><td>1             </td></tr>\n",
       "\t<tr><td>veteran       </td><td>1             </td></tr>\n",
       "\t<tr><td>violated      </td><td>1             </td></tr>\n",
       "\t<tr><td>voice         </td><td>1             </td></tr>\n",
       "\t<tr><td>wait          </td><td>1             </td></tr>\n",
       "\t<tr><td>web           </td><td>1             </td></tr>\n",
       "\t<tr><td>weekends      </td><td>1             </td></tr>\n",
       "\t<tr><td>wife's        </td><td>1             </td></tr>\n",
       "\t<tr><td>willingness   </td><td>1             </td></tr>\n",
       "\t<tr><td>wished        </td><td>1             </td></tr>\n",
       "\t<tr><td>woman         </td><td>1             </td></tr>\n",
       "\t<tr><td>wonderful     </td><td>1             </td></tr>\n",
       "\t<tr><td>words         </td><td>1             </td></tr>\n",
       "\t<tr><td>wouldn’t      </td><td>1             </td></tr>\n",
       "\t<tr><td>wouldnt       </td><td>1             </td></tr>\n",
       "\t<tr><td>write         </td><td>1             </td></tr>\n",
       "\t<tr><td>written       </td><td>1             </td></tr>\n",
       "\t<tr><td>wyndum        </td><td>1             </td></tr>\n",
       "</tbody>\n",
       "</table>\n"
      ],
      "text/latex": [
       "\\begin{tabular}{r|ll}\n",
       " word & n\\\\\n",
       "\\hline\n",
       "\t loan          & 41           \\\\\n",
       "\t process       & 30           \\\\\n",
       "\t nasb          & 23           \\\\\n",
       "\t home          & 21           \\\\\n",
       "\t mortgage      & 20           \\\\\n",
       "\t closing       & 19           \\\\\n",
       "\t time          & 18           \\\\\n",
       "\t bank          & 16           \\\\\n",
       "\t wyndham       & 16           \\\\\n",
       "\t recommend     & 15           \\\\\n",
       "\t professional  & 14           \\\\\n",
       "\t team          & 14           \\\\\n",
       "\t weeks         & 13           \\\\\n",
       "\t experience    & 12           \\\\\n",
       "\t rate          & 12           \\\\\n",
       "\t closed        & 11           \\\\\n",
       "\t questions     & 10           \\\\\n",
       "\t refinance     & 10           \\\\\n",
       "\t service       & 10           \\\\\n",
       "\t entire        &  9           \\\\\n",
       "\t knowledgeable &  9           \\\\\n",
       "\t told          &  9           \\\\\n",
       "\t credit        &  8           \\\\\n",
       "\t easy          &  8           \\\\\n",
       "\t highly        &  8           \\\\\n",
       "\t lender        &  8           \\\\\n",
       "\t purchase      &  8           \\\\\n",
       "\t called        &  7           \\\\\n",
       "\t email         &  7           \\\\\n",
       "\t phone         &  7           \\\\\n",
       "\t ... & ...\\\\\n",
       "\t understood     & 1             \\\\\n",
       "\t underwriter    & 1             \\\\\n",
       "\t unfold         & 1             \\\\\n",
       "\t unpacked       & 1             \\\\\n",
       "\t unprofessional & 1             \\\\\n",
       "\t unsure         & 1             \\\\\n",
       "\t unwilling      & 1             \\\\\n",
       "\t upfront        & 1             \\\\\n",
       "\t upload         & 1             \\\\\n",
       "\t urgency        & 1             \\\\\n",
       "\t usten          & 1             \\\\\n",
       "\t verification   & 1             \\\\\n",
       "\t versed         & 1             \\\\\n",
       "\t veteran        & 1             \\\\\n",
       "\t violated       & 1             \\\\\n",
       "\t voice          & 1             \\\\\n",
       "\t wait           & 1             \\\\\n",
       "\t web            & 1             \\\\\n",
       "\t weekends       & 1             \\\\\n",
       "\t wife's         & 1             \\\\\n",
       "\t willingness    & 1             \\\\\n",
       "\t wished         & 1             \\\\\n",
       "\t woman          & 1             \\\\\n",
       "\t wonderful      & 1             \\\\\n",
       "\t words          & 1             \\\\\n",
       "\t wouldn’t       & 1             \\\\\n",
       "\t wouldnt        & 1             \\\\\n",
       "\t write          & 1             \\\\\n",
       "\t written        & 1             \\\\\n",
       "\t wyndum         & 1             \\\\\n",
       "\\end{tabular}\n"
      ],
      "text/markdown": [
       "\n",
       "| word | n |\n",
       "|---|---|\n",
       "| loan          | 41            |\n",
       "| process       | 30            |\n",
       "| nasb          | 23            |\n",
       "| home          | 21            |\n",
       "| mortgage      | 20            |\n",
       "| closing       | 19            |\n",
       "| time          | 18            |\n",
       "| bank          | 16            |\n",
       "| wyndham       | 16            |\n",
       "| recommend     | 15            |\n",
       "| professional  | 14            |\n",
       "| team          | 14            |\n",
       "| weeks         | 13            |\n",
       "| experience    | 12            |\n",
       "| rate          | 12            |\n",
       "| closed        | 11            |\n",
       "| questions     | 10            |\n",
       "| refinance     | 10            |\n",
       "| service       | 10            |\n",
       "| entire        |  9            |\n",
       "| knowledgeable |  9            |\n",
       "| told          |  9            |\n",
       "| credit        |  8            |\n",
       "| easy          |  8            |\n",
       "| highly        |  8            |\n",
       "| lender        |  8            |\n",
       "| purchase      |  8            |\n",
       "| called        |  7            |\n",
       "| email         |  7            |\n",
       "| phone         |  7            |\n",
       "| ... | ... |\n",
       "| understood     | 1              |\n",
       "| underwriter    | 1              |\n",
       "| unfold         | 1              |\n",
       "| unpacked       | 1              |\n",
       "| unprofessional | 1              |\n",
       "| unsure         | 1              |\n",
       "| unwilling      | 1              |\n",
       "| upfront        | 1              |\n",
       "| upload         | 1              |\n",
       "| urgency        | 1              |\n",
       "| usten          | 1              |\n",
       "| verification   | 1              |\n",
       "| versed         | 1              |\n",
       "| veteran        | 1              |\n",
       "| violated       | 1              |\n",
       "| voice          | 1              |\n",
       "| wait           | 1              |\n",
       "| web            | 1              |\n",
       "| weekends       | 1              |\n",
       "| wife's         | 1              |\n",
       "| willingness    | 1              |\n",
       "| wished         | 1              |\n",
       "| woman          | 1              |\n",
       "| wonderful      | 1              |\n",
       "| words          | 1              |\n",
       "| wouldn’t       | 1              |\n",
       "| wouldnt        | 1              |\n",
       "| write          | 1              |\n",
       "| written        | 1              |\n",
       "| wyndum         | 1              |\n",
       "\n"
      ],
      "text/plain": [
       "    word           n  \n",
       "1   loan           41 \n",
       "2   process        30 \n",
       "3   nasb           23 \n",
       "4   home           21 \n",
       "5   mortgage       20 \n",
       "6   closing        19 \n",
       "7   time           18 \n",
       "8   bank           16 \n",
       "9   wyndham        16 \n",
       "10  recommend      15 \n",
       "11  professional   14 \n",
       "12  team           14 \n",
       "13  weeks          13 \n",
       "14  experience     12 \n",
       "15  rate           12 \n",
       "16  closed         11 \n",
       "17  questions      10 \n",
       "18  refinance      10 \n",
       "19  service        10 \n",
       "20  entire          9 \n",
       "21  knowledgeable   9 \n",
       "22  told            9 \n",
       "23  credit          8 \n",
       "24  easy            8 \n",
       "25  highly          8 \n",
       "26  lender          8 \n",
       "27  purchase        8 \n",
       "28  called          7 \n",
       "29  email           7 \n",
       "30  phone           7 \n",
       "... ...            ...\n",
       "705 understood     1  \n",
       "706 underwriter    1  \n",
       "707 unfold         1  \n",
       "708 unpacked       1  \n",
       "709 unprofessional 1  \n",
       "710 unsure         1  \n",
       "711 unwilling      1  \n",
       "712 upfront        1  \n",
       "713 upload         1  \n",
       "714 urgency        1  \n",
       "715 usten          1  \n",
       "716 verification   1  \n",
       "717 versed         1  \n",
       "718 veteran        1  \n",
       "719 violated       1  \n",
       "720 voice          1  \n",
       "721 wait           1  \n",
       "722 web            1  \n",
       "723 weekends       1  \n",
       "724 wife's         1  \n",
       "725 willingness    1  \n",
       "726 wished         1  \n",
       "727 woman          1  \n",
       "728 wonderful      1  \n",
       "729 words          1  \n",
       "730 wouldn’t       1  \n",
       "731 wouldnt        1  \n",
       "732 write          1  \n",
       "733 written        1  \n",
       "734 wyndum         1  "
      ]
     },
     "metadata": {},
     "output_type": "display_data"
    }
   ],
   "source": [
    "text_token_without_Swords %>% \n",
    "  count(word) %>% \n",
    "  arrange(desc(n))"
   ]
  },
  {
   "cell_type": "code",
   "execution_count": 38,
   "metadata": {},
   "outputs": [],
   "source": [
    "word_counts <- text_token_without_Swords %>% \n",
    "\n",
    "  count(word) %>% \n",
    "  # plot the words that repeated more than 10 times\n",
    "  filter(n>10)\n"
   ]
  },
  {
   "cell_type": "markdown",
   "metadata": {},
   "source": [
    "plot the words"
   ]
  },
  {
   "cell_type": "code",
   "execution_count": 16,
   "metadata": {},
   "outputs": [
    {
     "data": {
      "image/png": "[encoded data removed]",
      "text/plain": [
       "plot without title"
      ]
     },
     "metadata": {},
     "output_type": "display_data"
    }
   ],
   "source": [
    "ggplot(word_counts, aes(x = word, y = n)) +\n",
    "    geom_col() +\n",
    "  # Flip the plot coordinates\n",
    "  coord_flip()"
   ]
  },
  {
   "cell_type": "markdown",
   "metadata": {},
   "source": [
    "improve the chart by arranging the frequent of words related to stars equal to five. We can choose any related variable"
   ]
  },
  {
   "cell_type": "code",
   "execution_count": 17,
   "metadata": {},
   "outputs": [],
   "source": [
    "word_counts <- text_token_without_Swords %>% \n",
    "  filter(Stars == 5) %>% \n",
    "  count(word) %>% \n",
    "  # Keep terms that occur more than 100 times\n",
    "  filter(n > 10) %>% \n",
    "  # Reorder word as an ordered factor by word counts\n",
    "  mutate(word2 = fct_reorder(word, n))"
   ]
  },
  {
   "cell_type": "code",
   "execution_count": 18,
   "metadata": {},
   "outputs": [
    {
     "data": {
      "image/png": "[encoded data removed]",
      "text/plain": [
       "plot without title"
      ]
     },
     "metadata": {},
     "output_type": "display_data"
    }
   ],
   "source": [
    "ggplot(word_counts, aes(x = word2, y = n)) +\n",
    "    geom_col() +\n",
    "  # Flip the plot coordinates\n",
    "  coord_flip()"
   ]
  },
  {
   "cell_type": "code",
   "execution_count": null,
   "metadata": {},
   "outputs": [],
   "source": [
    "now let's see the review words related with stars numbrt> which words related to number of stars"
   ]
  },
  {
   "cell_type": "code",
   "execution_count": 19,
   "metadata": {},
   "outputs": [],
   "source": [
    "word_counts_bystars <- text_token_without_Swords %>%\n",
    "  count(word, Stars) %>%\n",
    "  group_by(Stars) %>%\n",
    "  top_n(20, n) %>%\n",
    "  ungroup() %>%\n",
    "  mutate(word2 = fct_reorder(word, n))"
   ]
  },
  {
   "cell_type": "code",
   "execution_count": 20,
   "metadata": {},
   "outputs": [
    {
     "data": {
      "image/png": "[encoded data removed]",
      "text/plain": [
       "plot without title"
      ]
     },
     "metadata": {},
     "output_type": "display_data"
    }
   ],
   "source": [
    "ggplot(word_counts_bystars, aes(x = word2, y = n, fill = Stars)) +\n",
    "  geom_col(show.legend = FALSE) +\n",
    "  # Facet by number of stars\n",
    "  facet_wrap(~ Stars, scales = \"free_y\") +\n",
    "  coord_flip() +\n",
    "  ggtitle(\"Reveiws Word Relate to number of  stars\")"
   ]
  },
  {
   "cell_type": "markdown",
   "metadata": {},
   "source": [
    "In this data set we have 2 stars only either 1 or 5.in the above figure we show the frequent of word in each catogry"
   ]
  },
  {
   "cell_type": "markdown",
   "metadata": {},
   "source": [
    "Or we can see the reviews based on bank Name as well"
   ]
  },
  {
   "cell_type": "code",
   "execution_count": 21,
   "metadata": {},
   "outputs": [],
   "source": [
    "word_counts_bybankname <- text_token_without_Swords %>%\n",
    "  count(word, BankName) %>%\n",
    "  group_by(BankName) %>%\n",
    "  top_n(20, n) %>%\n",
    "  ungroup() %>%\n",
    "  mutate(word2 = fct_reorder(word, n))"
   ]
  },
  {
   "cell_type": "code",
   "execution_count": 22,
   "metadata": {},
   "outputs": [
    {
     "data": {
      "image/png": "[encoded data removed]",
      "text/plain": [
       "plot without title"
      ]
     },
     "metadata": {},
     "output_type": "display_data"
    }
   ],
   "source": [
    "ggplot(word_counts_bybankname, aes(x = word2, y = n, fill = BankName)) +\n",
    "  geom_col(show.legend = FALSE) +\n",
    "  # Facet by number of stars\n",
    "  facet_wrap(~ BankName, scales = \"free_y\") +\n",
    "  coord_flip() +\n",
    "  ggtitle(\"Reveiws Word Relate to name of bank\")"
   ]
  },
  {
   "cell_type": "markdown",
   "metadata": {},
   "source": [
    "L'es do some sentiment analysis using nrc.  NRC is a list of English words and their associations with eight basic emotions (anger, fear, anticipation, trust, surprise, sadness, joy, and disgust) and two sentiments (negative and positive)"
   ]
  },
  {
   "cell_type": "code",
   "execution_count": 23,
   "metadata": {},
   "outputs": [
    {
     "name": "stderr",
     "output_type": "stream",
     "text": [
      "Joining, by = \"word\"\n"
     ]
    }
   ],
   "source": [
    "sentiment_text <- text_token_without_Swords %>% \n",
    "  inner_join(get_sentiments(\"nrc\"))"
   ]
  },
  {
   "cell_type": "markdown",
   "metadata": {},
   "source": [
    "So let's see what words in our data is in nrc"
   ]
  },
  {
   "cell_type": "code",
   "execution_count": 25,
   "metadata": {},
   "outputs": [
    {
     "data": {
      "text/html": [
       "<table>\n",
       "<thead><tr><th scope=col>sentiment</th><th scope=col>n</th></tr></thead>\n",
       "<tbody>\n",
       "\t<tr><td>anger       </td><td> 20         </td></tr>\n",
       "\t<tr><td>anticipation</td><td> 87         </td></tr>\n",
       "\t<tr><td>disgust     </td><td> 12         </td></tr>\n",
       "\t<tr><td>fear        </td><td> 42         </td></tr>\n",
       "\t<tr><td>joy         </td><td> 59         </td></tr>\n",
       "\t<tr><td>negative    </td><td> 75         </td></tr>\n",
       "\t<tr><td>positive    </td><td>198         </td></tr>\n",
       "\t<tr><td>sadness     </td><td> 37         </td></tr>\n",
       "\t<tr><td>surprise    </td><td> 18         </td></tr>\n",
       "\t<tr><td>trust       </td><td>200         </td></tr>\n",
       "</tbody>\n",
       "</table>\n"
      ],
      "text/latex": [
       "\\begin{tabular}{r|ll}\n",
       " sentiment & n\\\\\n",
       "\\hline\n",
       "\t anger        &  20         \\\\\n",
       "\t anticipation &  87         \\\\\n",
       "\t disgust      &  12         \\\\\n",
       "\t fear         &  42         \\\\\n",
       "\t joy          &  59         \\\\\n",
       "\t negative     &  75         \\\\\n",
       "\t positive     & 198         \\\\\n",
       "\t sadness      &  37         \\\\\n",
       "\t surprise     &  18         \\\\\n",
       "\t trust        & 200         \\\\\n",
       "\\end{tabular}\n"
      ],
      "text/markdown": [
       "\n",
       "| sentiment | n |\n",
       "|---|---|\n",
       "| anger        |  20          |\n",
       "| anticipation |  87          |\n",
       "| disgust      |  12          |\n",
       "| fear         |  42          |\n",
       "| joy          |  59          |\n",
       "| negative     |  75          |\n",
       "| positive     | 198          |\n",
       "| sadness      |  37          |\n",
       "| surprise     |  18          |\n",
       "| trust        | 200          |\n",
       "\n"
      ],
      "text/plain": [
       "   sentiment    n  \n",
       "1  anger         20\n",
       "2  anticipation  87\n",
       "3  disgust       12\n",
       "4  fear          42\n",
       "5  joy           59\n",
       "6  negative      75\n",
       "7  positive     198\n",
       "8  sadness       37\n",
       "9  surprise      18\n",
       "10 trust        200"
      ]
     },
     "metadata": {},
     "output_type": "display_data"
    },
    {
     "data": {
      "text/html": [
       "<table>\n",
       "<thead><tr><th scope=col>Date</th><th scope=col>Stars</th><th scope=col>BankName</th><th scope=col>word</th><th scope=col>sentiment</th></tr></thead>\n",
       "<tbody>\n",
       "\t<tr><td>10/4/2017               </td><td>5                       </td><td>Wyndham Capital Mortgage</td><td>job                     </td><td>positive                </td></tr>\n",
       "\t<tr><td>10/4/2017               </td><td>5                       </td><td>Wyndham Capital Mortgage</td><td>professional            </td><td>positive                </td></tr>\n",
       "\t<tr><td>10/4/2017               </td><td>5                       </td><td>Wyndham Capital Mortgage</td><td>professional            </td><td>trust                   </td></tr>\n",
       "\t<tr><td>10/2/2017               </td><td>5                       </td><td>Wyndham Capital Mortgage</td><td>professional            </td><td>positive                </td></tr>\n",
       "\t<tr><td>10/2/2017               </td><td>5                       </td><td>Wyndham Capital Mortgage</td><td>professional            </td><td>trust                   </td></tr>\n",
       "\t<tr><td>10/2/2017               </td><td>5                       </td><td>Wyndham Capital Mortgage</td><td>helpful                 </td><td>joy                     </td></tr>\n",
       "\t<tr><td>10/2/2017               </td><td>5                       </td><td>Wyndham Capital Mortgage</td><td>helpful                 </td><td>positive                </td></tr>\n",
       "\t<tr><td>10/2/2017               </td><td>5                       </td><td>Wyndham Capital Mortgage</td><td>helpful                 </td><td>trust                   </td></tr>\n",
       "\t<tr><td>10/2/2017               </td><td>5                       </td><td>Wyndham Capital Mortgage</td><td>mortgage                </td><td>fear                    </td></tr>\n",
       "\t<tr><td>10/2/2017               </td><td>5                       </td><td>Wyndham Capital Mortgage</td><td>excellent               </td><td>joy                     </td></tr>\n",
       "\t<tr><td>10/2/2017               </td><td>5                       </td><td>Wyndham Capital Mortgage</td><td>excellent               </td><td>positive                </td></tr>\n",
       "\t<tr><td>10/2/2017               </td><td>5                       </td><td>Wyndham Capital Mortgage</td><td>excellent               </td><td>trust                   </td></tr>\n",
       "\t<tr><td>21-08-2017              </td><td>5                       </td><td>Wyndham Capital Mortgage</td><td>mortgage                </td><td>fear                    </td></tr>\n",
       "\t<tr><td>21-08-2017              </td><td>5                       </td><td>Wyndham Capital Mortgage</td><td>question                </td><td>positive                </td></tr>\n",
       "\t<tr><td>21-08-2017              </td><td>5                       </td><td>Wyndham Capital Mortgage</td><td>extra                   </td><td>positive                </td></tr>\n",
       "\t<tr><td>21-08-2017              </td><td>5                       </td><td>Wyndham Capital Mortgage</td><td>wrong                   </td><td>negative                </td></tr>\n",
       "\t<tr><td>21-08-2017              </td><td>5                       </td><td>Wyndham Capital Mortgage</td><td>found                   </td><td>joy                     </td></tr>\n",
       "\t<tr><td>21-08-2017              </td><td>5                       </td><td>Wyndham Capital Mortgage</td><td>found                   </td><td>positive                </td></tr>\n",
       "\t<tr><td>21-08-2017              </td><td>5                       </td><td>Wyndham Capital Mortgage</td><td>found                   </td><td>trust                   </td></tr>\n",
       "\t<tr><td>21-08-2017              </td><td>5                       </td><td>Wyndham Capital Mortgage</td><td>option                  </td><td>positive                </td></tr>\n",
       "\t<tr><td>21-08-2017              </td><td>5                       </td><td>Wyndham Capital Mortgage</td><td>ultimately              </td><td>anticipation            </td></tr>\n",
       "\t<tr><td>21-08-2017              </td><td>5                       </td><td>Wyndham Capital Mortgage</td><td>ultimately              </td><td>positive                </td></tr>\n",
       "\t<tr><td>21-08-2017              </td><td>5                       </td><td>Wyndham Capital Mortgage</td><td>money                   </td><td>anger                   </td></tr>\n",
       "\t<tr><td>21-08-2017              </td><td>5                       </td><td>Wyndham Capital Mortgage</td><td>money                   </td><td>anticipation            </td></tr>\n",
       "\t<tr><td>21-08-2017              </td><td>5                       </td><td>Wyndham Capital Mortgage</td><td>money                   </td><td>joy                     </td></tr>\n",
       "\t<tr><td>21-08-2017              </td><td>5                       </td><td>Wyndham Capital Mortgage</td><td>money                   </td><td>positive                </td></tr>\n",
       "\t<tr><td>21-08-2017              </td><td>5                       </td><td>Wyndham Capital Mortgage</td><td>money                   </td><td>surprise                </td></tr>\n",
       "\t<tr><td>21-08-2017              </td><td>5                       </td><td>Wyndham Capital Mortgage</td><td>money                   </td><td>trust                   </td></tr>\n",
       "\t<tr><td>21-08-2017              </td><td>5                       </td><td>Wyndham Capital Mortgage</td><td>recommend               </td><td>positive                </td></tr>\n",
       "\t<tr><td>21-08-2017              </td><td>5                       </td><td>Wyndham Capital Mortgage</td><td>recommend               </td><td>trust                   </td></tr>\n",
       "\t<tr><td>...</td><td>...</td><td>...</td><td>...</td><td>...</td></tr>\n",
       "\t<tr><td>12/9/2017                  </td><td>1                          </td><td>North American Savings Bank</td><td>calls                      </td><td>trust                      </td></tr>\n",
       "\t<tr><td>12/9/2017                  </td><td>1                          </td><td>North American Savings Bank</td><td>tree                       </td><td>anger                      </td></tr>\n",
       "\t<tr><td>12/9/2017                  </td><td>1                          </td><td>North American Savings Bank</td><td>tree                       </td><td>anticipation               </td></tr>\n",
       "\t<tr><td>12/9/2017                  </td><td>1                          </td><td>North American Savings Bank</td><td>tree                       </td><td>disgust                    </td></tr>\n",
       "\t<tr><td>12/9/2017                  </td><td>1                          </td><td>North American Savings Bank</td><td>tree                       </td><td>joy                        </td></tr>\n",
       "\t<tr><td>12/9/2017                  </td><td>1                          </td><td>North American Savings Bank</td><td>tree                       </td><td>positive                   </td></tr>\n",
       "\t<tr><td>12/9/2017                  </td><td>1                          </td><td>North American Savings Bank</td><td>tree                       </td><td>surprise                   </td></tr>\n",
       "\t<tr><td>12/9/2017                  </td><td>1                          </td><td>North American Savings Bank</td><td>tree                       </td><td>trust                      </td></tr>\n",
       "\t<tr><td>12/9/2017                  </td><td>1                          </td><td>North American Savings Bank</td><td>lender                     </td><td>trust                      </td></tr>\n",
       "\t<tr><td>12/9/2017                  </td><td>1                          </td><td>North American Savings Bank</td><td>tomorrow                   </td><td>anticipation               </td></tr>\n",
       "\t<tr><td>12/9/2017                  </td><td>1                          </td><td>North American Savings Bank</td><td>late                       </td><td>negative                   </td></tr>\n",
       "\t<tr><td>12/9/2017                  </td><td>1                          </td><td>North American Savings Bank</td><td>late                       </td><td>sadness                    </td></tr>\n",
       "\t<tr><td>12/9/2017                  </td><td>1                          </td><td>North American Savings Bank</td><td>ready                      </td><td>anticipation               </td></tr>\n",
       "\t<tr><td>12/9/2017                  </td><td>1                          </td><td>North American Savings Bank</td><td>guess                      </td><td>surprise                   </td></tr>\n",
       "\t<tr><td>12/9/2017                  </td><td>1                          </td><td>North American Savings Bank</td><td>fall                       </td><td>negative                   </td></tr>\n",
       "\t<tr><td>12/9/2017                  </td><td>1                          </td><td>North American Savings Bank</td><td>fall                       </td><td>sadness                    </td></tr>\n",
       "\t<tr><td>12/9/2017                  </td><td>1                          </td><td>North American Savings Bank</td><td>deaf                       </td><td>negative                   </td></tr>\n",
       "\t<tr><td>12/9/2017                  </td><td>1                          </td><td>North American Savings Bank</td><td>pretty                     </td><td>anticipation               </td></tr>\n",
       "\t<tr><td>12/9/2017                  </td><td>1                          </td><td>North American Savings Bank</td><td>pretty                     </td><td>joy                        </td></tr>\n",
       "\t<tr><td>12/9/2017                  </td><td>1                          </td><td>North American Savings Bank</td><td>pretty                     </td><td>positive                   </td></tr>\n",
       "\t<tr><td>12/9/2017                  </td><td>1                          </td><td>North American Savings Bank</td><td>pretty                     </td><td>trust                      </td></tr>\n",
       "\t<tr><td>2/11/2017                  </td><td>1                          </td><td>North American Savings Bank</td><td>fixed                      </td><td>trust                      </td></tr>\n",
       "\t<tr><td>2/11/2017                  </td><td>1                          </td><td>North American Savings Bank</td><td>faith                      </td><td>anticipation               </td></tr>\n",
       "\t<tr><td>2/11/2017                  </td><td>1                          </td><td>North American Savings Bank</td><td>faith                      </td><td>joy                        </td></tr>\n",
       "\t<tr><td>2/11/2017                  </td><td>1                          </td><td>North American Savings Bank</td><td>faith                      </td><td>positive                   </td></tr>\n",
       "\t<tr><td>2/11/2017                  </td><td>1                          </td><td>North American Savings Bank</td><td>faith                      </td><td>trust                      </td></tr>\n",
       "\t<tr><td>2/11/2017                  </td><td>1                          </td><td>North American Savings Bank</td><td>faith                      </td><td>anticipation               </td></tr>\n",
       "\t<tr><td>2/11/2017                  </td><td>1                          </td><td>North American Savings Bank</td><td>faith                      </td><td>joy                        </td></tr>\n",
       "\t<tr><td>2/11/2017                  </td><td>1                          </td><td>North American Savings Bank</td><td>faith                      </td><td>positive                   </td></tr>\n",
       "\t<tr><td>2/11/2017                  </td><td>1                          </td><td>North American Savings Bank</td><td>faith                      </td><td>trust                      </td></tr>\n",
       "</tbody>\n",
       "</table>\n"
      ],
      "text/latex": [
       "\\begin{tabular}{r|lllll}\n",
       " Date & Stars & BankName & word & sentiment\\\\\n",
       "\\hline\n",
       "\t 10/4/2017                & 5                        & Wyndham Capital Mortgage & job                      & positive                \\\\\n",
       "\t 10/4/2017                & 5                        & Wyndham Capital Mortgage & professional             & positive                \\\\\n",
       "\t 10/4/2017                & 5                        & Wyndham Capital Mortgage & professional             & trust                   \\\\\n",
       "\t 10/2/2017                & 5                        & Wyndham Capital Mortgage & professional             & positive                \\\\\n",
       "\t 10/2/2017                & 5                        & Wyndham Capital Mortgage & professional             & trust                   \\\\\n",
       "\t 10/2/2017                & 5                        & Wyndham Capital Mortgage & helpful                  & joy                     \\\\\n",
       "\t 10/2/2017                & 5                        & Wyndham Capital Mortgage & helpful                  & positive                \\\\\n",
       "\t 10/2/2017                & 5                        & Wyndham Capital Mortgage & helpful                  & trust                   \\\\\n",
       "\t 10/2/2017                & 5                        & Wyndham Capital Mortgage & mortgage                 & fear                    \\\\\n",
       "\t 10/2/2017                & 5                        & Wyndham Capital Mortgage & excellent                & joy                     \\\\\n",
       "\t 10/2/2017                & 5                        & Wyndham Capital Mortgage & excellent                & positive                \\\\\n",
       "\t 10/2/2017                & 5                        & Wyndham Capital Mortgage & excellent                & trust                   \\\\\n",
       "\t 21-08-2017               & 5                        & Wyndham Capital Mortgage & mortgage                 & fear                    \\\\\n",
       "\t 21-08-2017               & 5                        & Wyndham Capital Mortgage & question                 & positive                \\\\\n",
       "\t 21-08-2017               & 5                        & Wyndham Capital Mortgage & extra                    & positive                \\\\\n",
       "\t 21-08-2017               & 5                        & Wyndham Capital Mortgage & wrong                    & negative                \\\\\n",
       "\t 21-08-2017               & 5                        & Wyndham Capital Mortgage & found                    & joy                     \\\\\n",
       "\t 21-08-2017               & 5                        & Wyndham Capital Mortgage & found                    & positive                \\\\\n",
       "\t 21-08-2017               & 5                        & Wyndham Capital Mortgage & found                    & trust                   \\\\\n",
       "\t 21-08-2017               & 5                        & Wyndham Capital Mortgage & option                   & positive                \\\\\n",
       "\t 21-08-2017               & 5                        & Wyndham Capital Mortgage & ultimately               & anticipation            \\\\\n",
       "\t 21-08-2017               & 5                        & Wyndham Capital Mortgage & ultimately               & positive                \\\\\n",
       "\t 21-08-2017               & 5                        & Wyndham Capital Mortgage & money                    & anger                   \\\\\n",
       "\t 21-08-2017               & 5                        & Wyndham Capital Mortgage & money                    & anticipation            \\\\\n",
       "\t 21-08-2017               & 5                        & Wyndham Capital Mortgage & money                    & joy                     \\\\\n",
       "\t 21-08-2017               & 5                        & Wyndham Capital Mortgage & money                    & positive                \\\\\n",
       "\t 21-08-2017               & 5                        & Wyndham Capital Mortgage & money                    & surprise                \\\\\n",
       "\t 21-08-2017               & 5                        & Wyndham Capital Mortgage & money                    & trust                   \\\\\n",
       "\t 21-08-2017               & 5                        & Wyndham Capital Mortgage & recommend                & positive                \\\\\n",
       "\t 21-08-2017               & 5                        & Wyndham Capital Mortgage & recommend                & trust                   \\\\\n",
       "\t ... & ... & ... & ... & ...\\\\\n",
       "\t 12/9/2017                   & 1                           & North American Savings Bank & calls                       & trust                      \\\\\n",
       "\t 12/9/2017                   & 1                           & North American Savings Bank & tree                        & anger                      \\\\\n",
       "\t 12/9/2017                   & 1                           & North American Savings Bank & tree                        & anticipation               \\\\\n",
       "\t 12/9/2017                   & 1                           & North American Savings Bank & tree                        & disgust                    \\\\\n",
       "\t 12/9/2017                   & 1                           & North American Savings Bank & tree                        & joy                        \\\\\n",
       "\t 12/9/2017                   & 1                           & North American Savings Bank & tree                        & positive                   \\\\\n",
       "\t 12/9/2017                   & 1                           & North American Savings Bank & tree                        & surprise                   \\\\\n",
       "\t 12/9/2017                   & 1                           & North American Savings Bank & tree                        & trust                      \\\\\n",
       "\t 12/9/2017                   & 1                           & North American Savings Bank & lender                      & trust                      \\\\\n",
       "\t 12/9/2017                   & 1                           & North American Savings Bank & tomorrow                    & anticipation               \\\\\n",
       "\t 12/9/2017                   & 1                           & North American Savings Bank & late                        & negative                   \\\\\n",
       "\t 12/9/2017                   & 1                           & North American Savings Bank & late                        & sadness                    \\\\\n",
       "\t 12/9/2017                   & 1                           & North American Savings Bank & ready                       & anticipation               \\\\\n",
       "\t 12/9/2017                   & 1                           & North American Savings Bank & guess                       & surprise                   \\\\\n",
       "\t 12/9/2017                   & 1                           & North American Savings Bank & fall                        & negative                   \\\\\n",
       "\t 12/9/2017                   & 1                           & North American Savings Bank & fall                        & sadness                    \\\\\n",
       "\t 12/9/2017                   & 1                           & North American Savings Bank & deaf                        & negative                   \\\\\n",
       "\t 12/9/2017                   & 1                           & North American Savings Bank & pretty                      & anticipation               \\\\\n",
       "\t 12/9/2017                   & 1                           & North American Savings Bank & pretty                      & joy                        \\\\\n",
       "\t 12/9/2017                   & 1                           & North American Savings Bank & pretty                      & positive                   \\\\\n",
       "\t 12/9/2017                   & 1                           & North American Savings Bank & pretty                      & trust                      \\\\\n",
       "\t 2/11/2017                   & 1                           & North American Savings Bank & fixed                       & trust                      \\\\\n",
       "\t 2/11/2017                   & 1                           & North American Savings Bank & faith                       & anticipation               \\\\\n",
       "\t 2/11/2017                   & 1                           & North American Savings Bank & faith                       & joy                        \\\\\n",
       "\t 2/11/2017                   & 1                           & North American Savings Bank & faith                       & positive                   \\\\\n",
       "\t 2/11/2017                   & 1                           & North American Savings Bank & faith                       & trust                      \\\\\n",
       "\t 2/11/2017                   & 1                           & North American Savings Bank & faith                       & anticipation               \\\\\n",
       "\t 2/11/2017                   & 1                           & North American Savings Bank & faith                       & joy                        \\\\\n",
       "\t 2/11/2017                   & 1                           & North American Savings Bank & faith                       & positive                   \\\\\n",
       "\t 2/11/2017                   & 1                           & North American Savings Bank & faith                       & trust                      \\\\\n",
       "\\end{tabular}\n"
      ],
      "text/markdown": [
       "\n",
       "| Date | Stars | BankName | word | sentiment |\n",
       "|---|---|---|---|---|\n",
       "| 10/4/2017                | 5                        | Wyndham Capital Mortgage | job                      | positive                 |\n",
       "| 10/4/2017                | 5                        | Wyndham Capital Mortgage | professional             | positive                 |\n",
       "| 10/4/2017                | 5                        | Wyndham Capital Mortgage | professional             | trust                    |\n",
       "| 10/2/2017                | 5                        | Wyndham Capital Mortgage | professional             | positive                 |\n",
       "| 10/2/2017                | 5                        | Wyndham Capital Mortgage | professional             | trust                    |\n",
       "| 10/2/2017                | 5                        | Wyndham Capital Mortgage | helpful                  | joy                      |\n",
       "| 10/2/2017                | 5                        | Wyndham Capital Mortgage | helpful                  | positive                 |\n",
       "| 10/2/2017                | 5                        | Wyndham Capital Mortgage | helpful                  | trust                    |\n",
       "| 10/2/2017                | 5                        | Wyndham Capital Mortgage | mortgage                 | fear                     |\n",
       "| 10/2/2017                | 5                        | Wyndham Capital Mortgage | excellent                | joy                      |\n",
       "| 10/2/2017                | 5                        | Wyndham Capital Mortgage | excellent                | positive                 |\n",
       "| 10/2/2017                | 5                        | Wyndham Capital Mortgage | excellent                | trust                    |\n",
       "| 21-08-2017               | 5                        | Wyndham Capital Mortgage | mortgage                 | fear                     |\n",
       "| 21-08-2017               | 5                        | Wyndham Capital Mortgage | question                 | positive                 |\n",
       "| 21-08-2017               | 5                        | Wyndham Capital Mortgage | extra                    | positive                 |\n",
       "| 21-08-2017               | 5                        | Wyndham Capital Mortgage | wrong                    | negative                 |\n",
       "| 21-08-2017               | 5                        | Wyndham Capital Mortgage | found                    | joy                      |\n",
       "| 21-08-2017               | 5                        | Wyndham Capital Mortgage | found                    | positive                 |\n",
       "| 21-08-2017               | 5                        | Wyndham Capital Mortgage | found                    | trust                    |\n",
       "| 21-08-2017               | 5                        | Wyndham Capital Mortgage | option                   | positive                 |\n",
       "| 21-08-2017               | 5                        | Wyndham Capital Mortgage | ultimately               | anticipation             |\n",
       "| 21-08-2017               | 5                        | Wyndham Capital Mortgage | ultimately               | positive                 |\n",
       "| 21-08-2017               | 5                        | Wyndham Capital Mortgage | money                    | anger                    |\n",
       "| 21-08-2017               | 5                        | Wyndham Capital Mortgage | money                    | anticipation             |\n",
       "| 21-08-2017               | 5                        | Wyndham Capital Mortgage | money                    | joy                      |\n",
       "| 21-08-2017               | 5                        | Wyndham Capital Mortgage | money                    | positive                 |\n",
       "| 21-08-2017               | 5                        | Wyndham Capital Mortgage | money                    | surprise                 |\n",
       "| 21-08-2017               | 5                        | Wyndham Capital Mortgage | money                    | trust                    |\n",
       "| 21-08-2017               | 5                        | Wyndham Capital Mortgage | recommend                | positive                 |\n",
       "| 21-08-2017               | 5                        | Wyndham Capital Mortgage | recommend                | trust                    |\n",
       "| ... | ... | ... | ... | ... |\n",
       "| 12/9/2017                   | 1                           | North American Savings Bank | calls                       | trust                       |\n",
       "| 12/9/2017                   | 1                           | North American Savings Bank | tree                        | anger                       |\n",
       "| 12/9/2017                   | 1                           | North American Savings Bank | tree                        | anticipation                |\n",
       "| 12/9/2017                   | 1                           | North American Savings Bank | tree                        | disgust                     |\n",
       "| 12/9/2017                   | 1                           | North American Savings Bank | tree                        | joy                         |\n",
       "| 12/9/2017                   | 1                           | North American Savings Bank | tree                        | positive                    |\n",
       "| 12/9/2017                   | 1                           | North American Savings Bank | tree                        | surprise                    |\n",
       "| 12/9/2017                   | 1                           | North American Savings Bank | tree                        | trust                       |\n",
       "| 12/9/2017                   | 1                           | North American Savings Bank | lender                      | trust                       |\n",
       "| 12/9/2017                   | 1                           | North American Savings Bank | tomorrow                    | anticipation                |\n",
       "| 12/9/2017                   | 1                           | North American Savings Bank | late                        | negative                    |\n",
       "| 12/9/2017                   | 1                           | North American Savings Bank | late                        | sadness                     |\n",
       "| 12/9/2017                   | 1                           | North American Savings Bank | ready                       | anticipation                |\n",
       "| 12/9/2017                   | 1                           | North American Savings Bank | guess                       | surprise                    |\n",
       "| 12/9/2017                   | 1                           | North American Savings Bank | fall                        | negative                    |\n",
       "| 12/9/2017                   | 1                           | North American Savings Bank | fall                        | sadness                     |\n",
       "| 12/9/2017                   | 1                           | North American Savings Bank | deaf                        | negative                    |\n",
       "| 12/9/2017                   | 1                           | North American Savings Bank | pretty                      | anticipation                |\n",
       "| 12/9/2017                   | 1                           | North American Savings Bank | pretty                      | joy                         |\n",
       "| 12/9/2017                   | 1                           | North American Savings Bank | pretty                      | positive                    |\n",
       "| 12/9/2017                   | 1                           | North American Savings Bank | pretty                      | trust                       |\n",
       "| 2/11/2017                   | 1                           | North American Savings Bank | fixed                       | trust                       |\n",
       "| 2/11/2017                   | 1                           | North American Savings Bank | faith                       | anticipation                |\n",
       "| 2/11/2017                   | 1                           | North American Savings Bank | faith                       | joy                         |\n",
       "| 2/11/2017                   | 1                           | North American Savings Bank | faith                       | positive                    |\n",
       "| 2/11/2017                   | 1                           | North American Savings Bank | faith                       | trust                       |\n",
       "| 2/11/2017                   | 1                           | North American Savings Bank | faith                       | anticipation                |\n",
       "| 2/11/2017                   | 1                           | North American Savings Bank | faith                       | joy                         |\n",
       "| 2/11/2017                   | 1                           | North American Savings Bank | faith                       | positive                    |\n",
       "| 2/11/2017                   | 1                           | North American Savings Bank | faith                       | trust                       |\n",
       "\n"
      ],
      "text/plain": [
       "    Date       Stars BankName                    word         sentiment   \n",
       "1   10/4/2017  5     Wyndham Capital Mortgage    job          positive    \n",
       "2   10/4/2017  5     Wyndham Capital Mortgage    professional positive    \n",
       "3   10/4/2017  5     Wyndham Capital Mortgage    professional trust       \n",
       "4   10/2/2017  5     Wyndham Capital Mortgage    professional positive    \n",
       "5   10/2/2017  5     Wyndham Capital Mortgage    professional trust       \n",
       "6   10/2/2017  5     Wyndham Capital Mortgage    helpful      joy         \n",
       "7   10/2/2017  5     Wyndham Capital Mortgage    helpful      positive    \n",
       "8   10/2/2017  5     Wyndham Capital Mortgage    helpful      trust       \n",
       "9   10/2/2017  5     Wyndham Capital Mortgage    mortgage     fear        \n",
       "10  10/2/2017  5     Wyndham Capital Mortgage    excellent    joy         \n",
       "11  10/2/2017  5     Wyndham Capital Mortgage    excellent    positive    \n",
       "12  10/2/2017  5     Wyndham Capital Mortgage    excellent    trust       \n",
       "13  21-08-2017 5     Wyndham Capital Mortgage    mortgage     fear        \n",
       "14  21-08-2017 5     Wyndham Capital Mortgage    question     positive    \n",
       "15  21-08-2017 5     Wyndham Capital Mortgage    extra        positive    \n",
       "16  21-08-2017 5     Wyndham Capital Mortgage    wrong        negative    \n",
       "17  21-08-2017 5     Wyndham Capital Mortgage    found        joy         \n",
       "18  21-08-2017 5     Wyndham Capital Mortgage    found        positive    \n",
       "19  21-08-2017 5     Wyndham Capital Mortgage    found        trust       \n",
       "20  21-08-2017 5     Wyndham Capital Mortgage    option       positive    \n",
       "21  21-08-2017 5     Wyndham Capital Mortgage    ultimately   anticipation\n",
       "22  21-08-2017 5     Wyndham Capital Mortgage    ultimately   positive    \n",
       "23  21-08-2017 5     Wyndham Capital Mortgage    money        anger       \n",
       "24  21-08-2017 5     Wyndham Capital Mortgage    money        anticipation\n",
       "25  21-08-2017 5     Wyndham Capital Mortgage    money        joy         \n",
       "26  21-08-2017 5     Wyndham Capital Mortgage    money        positive    \n",
       "27  21-08-2017 5     Wyndham Capital Mortgage    money        surprise    \n",
       "28  21-08-2017 5     Wyndham Capital Mortgage    money        trust       \n",
       "29  21-08-2017 5     Wyndham Capital Mortgage    recommend    positive    \n",
       "30  21-08-2017 5     Wyndham Capital Mortgage    recommend    trust       \n",
       "... ...        ...   ...                         ...          ...         \n",
       "719 12/9/2017  1     North American Savings Bank calls        trust       \n",
       "720 12/9/2017  1     North American Savings Bank tree         anger       \n",
       "721 12/9/2017  1     North American Savings Bank tree         anticipation\n",
       "722 12/9/2017  1     North American Savings Bank tree         disgust     \n",
       "723 12/9/2017  1     North American Savings Bank tree         joy         \n",
       "724 12/9/2017  1     North American Savings Bank tree         positive    \n",
       "725 12/9/2017  1     North American Savings Bank tree         surprise    \n",
       "726 12/9/2017  1     North American Savings Bank tree         trust       \n",
       "727 12/9/2017  1     North American Savings Bank lender       trust       \n",
       "728 12/9/2017  1     North American Savings Bank tomorrow     anticipation\n",
       "729 12/9/2017  1     North American Savings Bank late         negative    \n",
       "730 12/9/2017  1     North American Savings Bank late         sadness     \n",
       "731 12/9/2017  1     North American Savings Bank ready        anticipation\n",
       "732 12/9/2017  1     North American Savings Bank guess        surprise    \n",
       "733 12/9/2017  1     North American Savings Bank fall         negative    \n",
       "734 12/9/2017  1     North American Savings Bank fall         sadness     \n",
       "735 12/9/2017  1     North American Savings Bank deaf         negative    \n",
       "736 12/9/2017  1     North American Savings Bank pretty       anticipation\n",
       "737 12/9/2017  1     North American Savings Bank pretty       joy         \n",
       "738 12/9/2017  1     North American Savings Bank pretty       positive    \n",
       "739 12/9/2017  1     North American Savings Bank pretty       trust       \n",
       "740 2/11/2017  1     North American Savings Bank fixed        trust       \n",
       "741 2/11/2017  1     North American Savings Bank faith        anticipation\n",
       "742 2/11/2017  1     North American Savings Bank faith        joy         \n",
       "743 2/11/2017  1     North American Savings Bank faith        positive    \n",
       "744 2/11/2017  1     North American Savings Bank faith        trust       \n",
       "745 2/11/2017  1     North American Savings Bank faith        anticipation\n",
       "746 2/11/2017  1     North American Savings Bank faith        joy         \n",
       "747 2/11/2017  1     North American Savings Bank faith        positive    \n",
       "748 2/11/2017  1     North American Savings Bank faith        trust       "
      ]
     },
     "metadata": {},
     "output_type": "display_data"
    }
   ],
   "source": [
    "sentiment_text %>% \n",
    "  count(sentiment)  \n",
    "  \n",
    "sentiment_text"
   ]
  },
  {
   "cell_type": "markdown",
   "metadata": {},
   "source": [
    "Conclusion: this simple tutorial to help understand analyzing text. "
   ]
  }
 ],
 "metadata": {
  "kernelspec": {
   "display_name": "R",
   "language": "R",
   "name": "ir"
  },
  "language_info": {
   "codemirror_mode": "r",
   "file_extension": ".r",
   "mimetype": "text/x-r-source",
   "name": "R",
   "pygments_lexer": "r",
   "version": "3.6.1"
  }
 },
 "nbformat": 4,
 "nbformat_minor": 4
}
