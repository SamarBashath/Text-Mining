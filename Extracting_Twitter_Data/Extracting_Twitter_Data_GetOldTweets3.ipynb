{
 "cells": [
  {
   "cell_type": "code",
   "execution_count": null,
   "metadata": {},
   "outputs": [],
   "source": [
    "pip install GetOldTweets3"
   ]
  },
  {
   "cell_type": "code",
   "execution_count": null,
   "metadata": {},
   "outputs": [],
   "source": [
    "import GetOldTweets3 as got\n",
    "import pandas as pd"
   ]
  },
  {
   "cell_type": "code",
   "execution_count": null,
   "metadata": {},
   "outputs": [],
   "source": [
    "#function to get tweets from twitter and return it as csv file\n",
    "def get_tweets(query):\n",
    "# Create query object :setQuerySearch for the search keywords, setSince is starting date,\n",
    "#setUntil is ending date  \n",
    "    tweetCriteria = got.manager.TweetCriteria().setQuerySearch(query) \\\n",
    "                                                .setSince(\"2020-03-11\")\\\n",
    "                                                .setUntil(\"2020-03-12\") \\\n",
    "                                                .setLang('en')\n",
    "                                                         \n",
    "    tweets= got.manager.TweetManager.getTweets(tweetCriteria)\n",
    "\n",
    "    tweets_text = [[tweet.date, tweet.text] for tweet in tweets]\n",
    "# Create dataframe from tweets \n",
    "    tweets_df = pd.DataFrame(tweets_text, columns = ['Datetime', 'Text'])  \n",
    "# Converting dataframe to CSV file\n",
    "    tweets_df.to_csv('tweets.csv')  "
   ]
  },
  {
   "cell_type": "code",
   "execution_count": null,
   "metadata": {},
   "outputs": [],
   "source": [
    "query = 'yemen'\n",
    "#passing the parameter to the function\n",
    "get_tweets(query) "
   ]
  },
  {
   "cell_type": "code",
   "execution_count": null,
   "metadata": {},
   "outputs": [],
   "source": []
  }
 ],
 "metadata": {
  "kernelspec": {
   "display_name": "Python 3",
   "language": "python",
   "name": "python3"
  },
  "language_info": {
   "codemirror_mode": {
    "name": "ipython",
    "version": 3
   },
   "file_extension": ".py",
   "mimetype": "text/x-python",
   "name": "python",
   "nbconvert_exporter": "python",
   "pygments_lexer": "ipython3",
   "version": "3.7.7"
  }
 },
 "nbformat": 4,
 "nbformat_minor": 4
}
